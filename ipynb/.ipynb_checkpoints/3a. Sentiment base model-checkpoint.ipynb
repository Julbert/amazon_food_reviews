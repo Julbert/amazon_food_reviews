{
 "cells": [
  {
   "cell_type": "code",
   "execution_count": 1,
   "metadata": {
    "collapsed": false,
    "deletable": true,
    "editable": true
   },
   "outputs": [
    {
     "name": "stderr",
     "output_type": "stream",
     "text": [
      "/home/vecht499/.local/lib/python3.5/site-packages/IPython/html.py:14: ShimWarning: The `IPython.html` package has been deprecated since IPython 4.0. You should import from `notebook` instead. `IPython.html.widgets` has moved to `ipywidgets`.\n",
      "  \"`IPython.html.widgets` has moved to `ipywidgets`.\", ShimWarning)\n"
     ]
    }
   ],
   "source": [
    "import pickle\n",
    "\n",
    "import pandas as pd\n",
    "from helpers import *\n",
    "\n",
    "import matplotlib.pyplot as plt\n",
    "import seaborn as sns\n",
    "%matplotlib inline\n",
    "\n",
    "import numpy as np\n",
    "\n",
    "from nltk.corpus import stopwords\n",
    "from nltk import word_tokenize          \n",
    "from nltk.stem import WordNetLemmatizer \n",
    "\n",
    "import scipy\n",
    "from sklearn.feature_extraction.text import TfidfVectorizer\n",
    "from sklearn.ensemble import RandomForestClassifier"
   ]
  },
  {
   "cell_type": "code",
   "execution_count": 2,
   "metadata": {
    "collapsed": true,
    "deletable": true,
    "editable": true
   },
   "outputs": [],
   "source": [
    "from sklearn.metrics import precision_score\n",
    "from sklearn.metrics import recall_score\n",
    "from sklearn.metrics import f1_score\n",
    "from sklearn.metrics import accuracy_score \n",
    "from sklearn.metrics import confusion_matrix\n",
    "\n",
    "def accuracy(predictions, labels):\n",
    "    return (100.0 * np.sum(np.argmax(predictions, 1) == labels) / predictions.shape[0])"
   ]
  },
  {
   "cell_type": "markdown",
   "metadata": {
    "deletable": true,
    "editable": true
   },
   "source": [
    "## Load dataset"
   ]
  },
  {
   "cell_type": "code",
   "execution_count": 5,
   "metadata": {
    "collapsed": false,
    "deletable": true,
    "editable": true
   },
   "outputs": [],
   "source": [
    "with open('../data/prepared_data.pickle', 'rb') as data:\n",
    "    data_dic = pickle.load(data)"
   ]
  },
  {
   "cell_type": "code",
   "execution_count": 6,
   "metadata": {
    "collapsed": true
   },
   "outputs": [],
   "source": [
    "train = data_dic['sample_df']['train']\n",
    "test  = data_dic['sample_df']['test']\n",
    "valid = data_dic['sample_df']['valid']"
   ]
  },
  {
   "cell_type": "markdown",
   "metadata": {},
   "source": [
    "## Baseline model"
   ]
  },
  {
   "cell_type": "code",
   "execution_count": 7,
   "metadata": {
    "collapsed": true
   },
   "outputs": [],
   "source": [
    "class LemmaTokenizer(object):\n",
    "    def __init__(self):\n",
    "        self.wnl = WordNetLemmatizer()\n",
    "    def __call__(self, doc):\n",
    "        return [self.wnl.lemmatize(t) for t in word_tokenize(doc)]"
   ]
  },
  {
   "cell_type": "code",
   "execution_count": 8,
   "metadata": {
    "collapsed": false
   },
   "outputs": [],
   "source": [
    "vectorizer = TfidfVectorizer( max_features = 20000,\n",
    "                              ngram_range = ( 2, 3),\n",
    "                              sublinear_tf = True,\n",
    "                              stop_words='english',\n",
    "                              tokenizer=LemmaTokenizer())\n",
    "\n",
    "tfidf = vectorizer.fit_transform(train[\"text\"].tolist())\n",
    "feature_names = vectorizer.get_feature_names()"
   ]
  },
  {
   "cell_type": "code",
   "execution_count": 9,
   "metadata": {
    "collapsed": true
   },
   "outputs": [],
   "source": [
    "def get_n_typical_words(indices,n):\n",
    "    dense = tfidf.todense()\n",
    "    \n",
    "    x=list()\n",
    "    for i in indices:\n",
    "        x.append((dense[i]))\n",
    "        \n",
    "    dense1=np.vstack(x)\n",
    "    \n",
    "    text = np.mean(dense1, axis=0).tolist()[0]\n",
    "    phrase_scores = [pair for pair in zip(range(0, len((text))), text)]    \n",
    "    sorted_phrase_scores = sorted(phrase_scores, key=lambda t: t[1] * -1)\n",
    "    for phrase, score in [(feature_names[word_id], score) for (word_id, score) in sorted_phrase_scores][:n]:\n",
    "        print('{0: <20} {1}'.format(phrase, score))"
   ]
  },
  {
   "cell_type": "code",
   "execution_count": 10,
   "metadata": {
    "collapsed": false
   },
   "outputs": [
    {
     "name": "stdout",
     "output_type": "stream",
     "text": [
      "don t                0.020146844424370983\n",
      "didn t               0.015458757011469499\n",
      "waste money          0.014435666057173066\n",
      "doesn t              0.012609677502916269\n",
      "t work               0.00800776901327242\n",
      "wa disappointed      0.006576013300820232\n",
      "year old             0.006457295032417125\n",
      "wouldn t             0.006413649594494231\n",
      "won t                0.006083701056422039\n",
      "t waste              0.005661080290291162\n",
      "don t waste          0.005479035225266659\n",
      "t buy                0.005360911014563476\n",
      "product wa           0.0050786153961288084\n",
      "did work             0.004882766977229225\n",
      "t waste money        0.004782422779032631\n",
      "isn t                0.004773405725060026\n",
      "couldn t             0.004736789478096593\n",
      "wasn t               0.004711132774878644\n",
      "doe work             0.004539677490344062\n",
      "save money           0.004385822625330937\n"
     ]
    }
   ],
   "source": [
    "negative_indices=list()\n",
    "for i,e in enumerate(train[\"negative\"].tolist()):\n",
    "    if e==1:\n",
    "        negative_indices.append(i)\n",
    "\n",
    "get_n_typical_words(negative_indices,20)"
   ]
  },
  {
   "cell_type": "code",
   "execution_count": 11,
   "metadata": {
    "collapsed": false
   },
   "outputs": [
    {
     "name": "stdout",
     "output_type": "stream",
     "text": [
      "don t                0.0102543242350656\n",
      "year old             0.009783246577421734\n",
      "highly recommend     0.006746180459742179\n",
      "doesn t              0.00645556001586401\n",
      "great product        0.006324090579373664\n",
      "work great           0.005804038614406916\n",
      "month old            0.004984026116021764\n",
      "didn t               0.004821667607014165\n",
      "easy use             0.004250342175830946\n",
      "long time            0.0033554554490061615\n",
      "recommend product    0.003319034230402814\n",
      "great price          0.0031700183297970687\n",
      "really like          0.0031622437728557364\n",
      "s great              0.0030500269527403965\n",
      "good product         0.0028547404844335637\n",
      "love product         0.0028490032980773507\n",
      "year ago             0.0028487390723376652\n",
      "haven t              0.0028163438026409565\n",
      "couldn t             0.0027857207669553428\n",
      "wa great             0.002715725301379599\n"
     ]
    }
   ],
   "source": [
    "positive_indices=list()\n",
    "for i,e in enumerate(train[\"negative\"].tolist()):\n",
    "    if e==0:\n",
    "        positive_indices.append(i)\n",
    "\n",
    "get_n_typical_words(positive_indices,20)"
   ]
  },
  {
   "cell_type": "code",
   "execution_count": 13,
   "metadata": {
    "collapsed": false
   },
   "outputs": [],
   "source": [
    "train_data_features=tfidf.toarray()\n",
    "forest = RandomForestClassifier(n_estimators = 500) \n",
    "forest = forest.fit(train_data_features, train[\"negative\"] )"
   ]
  },
  {
   "cell_type": "code",
   "execution_count": null,
   "metadata": {
    "collapsed": true
   },
   "outputs": [],
   "source": [
    "test_data_features = vectorizer.transform(test[\"text\"].tolist()).toarray()\n",
    "result = forest.predict_proba(test_data_features)\n",
    "result=[result[x][1] for x in range(len(result)) ]"
   ]
  }
 ],
 "metadata": {
  "kernelspec": {
   "display_name": "Python [conda env:py35]",
   "language": "python",
   "name": "conda-env-py35-py"
  },
  "language_info": {
   "codemirror_mode": {
    "name": "ipython",
    "version": 3
   },
   "file_extension": ".py",
   "mimetype": "text/x-python",
   "name": "python",
   "nbconvert_exporter": "python",
   "pygments_lexer": "ipython3",
   "version": "3.5.3"
  }
 },
 "nbformat": 4,
 "nbformat_minor": 2
}
