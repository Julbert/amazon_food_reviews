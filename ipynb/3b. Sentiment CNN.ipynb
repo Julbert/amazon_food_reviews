{
 "cells": [
  {
   "cell_type": "code",
   "execution_count": 1,
   "metadata": {
    "collapsed": false,
    "deletable": true,
    "editable": true
   },
   "outputs": [
    {
     "name": "stderr",
     "output_type": "stream",
     "text": [
      "/home/vecht499/.local/lib/python3.5/site-packages/IPython/html.py:14: ShimWarning: The `IPython.html` package has been deprecated since IPython 4.0. You should import from `notebook` instead. `IPython.html.widgets` has moved to `ipywidgets`.\n",
      "  \"`IPython.html.widgets` has moved to `ipywidgets`.\", ShimWarning)\n"
     ]
    }
   ],
   "source": [
    "import pickle\n",
    "\n",
    "import pandas as pd\n",
    "from helpers import *\n",
    "\n",
    "import matplotlib.pyplot as plt\n",
    "import seaborn as sns\n",
    "%matplotlib inline\n",
    "\n",
    "import tensorflow as tf"
   ]
  },
  {
   "cell_type": "code",
   "execution_count": 2,
   "metadata": {
    "collapsed": true,
    "deletable": true,
    "editable": true
   },
   "outputs": [],
   "source": [
    "from sklearn.metrics import precision_score\n",
    "from sklearn.metrics import recall_score\n",
    "from sklearn.metrics import f1_score\n",
    "from sklearn.metrics import accuracy_score \n",
    "from sklearn.metrics import confusion_matrix\n",
    "\n",
    "def accuracy(predictions, labels):\n",
    "    return (100.0 * np.sum(np.argmax(predictions, 1) == labels) / predictions.shape[0])"
   ]
  },
  {
   "cell_type": "markdown",
   "metadata": {
    "deletable": true,
    "editable": true
   },
   "source": [
    "## Load dataset"
   ]
  },
  {
   "cell_type": "code",
   "execution_count": 3,
   "metadata": {
    "collapsed": false,
    "deletable": true,
    "editable": true
   },
   "outputs": [],
   "source": [
    "with open('../data/prepared_data.pickle', 'rb') as data:\n",
    "    data_dic = pickle.load(data)"
   ]
  },
  {
   "cell_type": "code",
   "execution_count": 4,
   "metadata": {
    "collapsed": false
   },
   "outputs": [],
   "source": [
    "train = data_dic['sample_df']['train']\n",
    "test  = data_dic['sample_df']['test']\n",
    "valid = data_dic['sample_df']['valid']"
   ]
  },
  {
   "cell_type": "code",
   "execution_count": 5,
   "metadata": {
    "collapsed": false,
    "deletable": true,
    "editable": true
   },
   "outputs": [],
   "source": [
    "train_dataset = np.array(train.sentence_vecs.tolist())\n",
    "test_dataset  = np.array(test.sentence_vecs.tolist())\n",
    "valid_dataset = np.array(valid.sentence_vecs.tolist())"
   ]
  },
  {
   "cell_type": "code",
   "execution_count": 6,
   "metadata": {
    "collapsed": true,
    "deletable": true,
    "editable": true
   },
   "outputs": [],
   "source": [
    "train_labels = np.array(train.negative.tolist())\n",
    "test_labels  = np.array(test.negative.tolist())\n",
    "valid_labels = np.array(valid.negative.tolist())"
   ]
  },
  {
   "cell_type": "code",
   "execution_count": 7,
   "metadata": {
    "collapsed": true
   },
   "outputs": [],
   "source": [
    "vocab_len = data_dic['sample_df']['vocab_len']"
   ]
  },
  {
   "cell_type": "code",
   "execution_count": 8,
   "metadata": {
    "collapsed": false,
    "deletable": true,
    "editable": true
   },
   "outputs": [
    {
     "name": "stdout",
     "output_type": "stream",
     "text": [
      "Size of train set: 140000\n",
      "Size of test set: 40200\n",
      "Size of validation set: 19800\n"
     ]
    }
   ],
   "source": [
    "print (\"Size of train set: %s\" % len(train_dataset))\n",
    "print (\"Size of test set: %s\" % len(test_dataset))\n",
    "print (\"Size of validation set: %s\" % len(valid_dataset))"
   ]
  },
  {
   "cell_type": "code",
   "execution_count": 9,
   "metadata": {
    "collapsed": false,
    "deletable": true,
    "editable": true
   },
   "outputs": [
    {
     "data": {
      "text/plain": [
       "(array([[80513, 10752, 70330, ...,  2641,  2641,  2641],\n",
       "        [53607,  7892, 52677, ...,  2641,  2641,  2641],\n",
       "        [26034,  2692, 12524, ...,  2641,  2641,  2641],\n",
       "        ..., \n",
       "        [45219,  4862, 74430, ...,  2641,  2641,  2641],\n",
       "        [45219, 41892, 37713, ...,  2641,  2641,  2641],\n",
       "        [25350, 48189, 45219, ...,  2641,  2641,  2641]]),\n",
       " array([0, 0, 0, ..., 0, 0, 0]))"
      ]
     },
     "execution_count": 9,
     "metadata": {},
     "output_type": "execute_result"
    }
   ],
   "source": [
    "train_dataset, train_labels"
   ]
  },
  {
   "cell_type": "markdown",
   "metadata": {
    "deletable": true,
    "editable": true
   },
   "source": [
    "## Ready for tensorflow!"
   ]
  },
  {
   "cell_type": "code",
   "execution_count": 10,
   "metadata": {
    "collapsed": false,
    "deletable": true,
    "editable": true
   },
   "outputs": [],
   "source": [
    "SEQ_LENGTH = 100\n",
    "BATCH_SIZE = 50\n",
    "NUM_LABELS = 2\n",
    "\n",
    "VOCAB_SIZE = vocab_len\n",
    "EMBED_SIZE = 128\n",
    "\n",
    "FILTER_SIZE_1 = 3\n",
    "FILTER_SIZE_2 = 4\n",
    "FILTER_SIZE_3 = 5\n",
    "NUM_FILTERS = 128\n",
    "\n",
    "keep_prob = 0.8\n",
    "l2_reg_lambda=0.0\n",
    "\n",
    "tf_train_dataset = tf.placeholder(tf.int32, shape=(BATCH_SIZE, SEQ_LENGTH), name=\"input_x\")\n",
    "tf_train_labels = tf.placeholder(tf.int32, shape=(BATCH_SIZE), name=\"input_y\")\n",
    "tf_valid_dataset = tf.constant(valid_dataset) \n",
    "tf_test_dataset = tf.constant(test_dataset)\n",
    "\n",
    "# Keeping track of l2 regularization loss (optional)\n",
    "l2_loss = tf.constant(0.0)\n",
    "\n",
    "## Embedding layer\n",
    "\n",
    "embed_weigths = tf.Variable(tf.random_uniform([VOCAB_SIZE, EMBED_SIZE], -1.0, 1.0))\n",
    "    \n",
    "## Convolutional layers\n",
    "## Change to True if run again\n",
    "with tf.variable_scope(\"vars\", reuse = None):\n",
    "    \n",
    "    conv1_weights = tf.get_variable(\"conv1_w\", shape=[FILTER_SIZE_1, EMBED_SIZE, 1, NUM_FILTERS],\\\n",
    "                                                    initializer=tf.contrib.layers.xavier_initializer_conv2d())\n",
    "    conv1_biases = tf.Variable(tf.constant(0.1, shape=[NUM_FILTERS]), name = \"conv1_b\")\n",
    "\n",
    "    conv2_weights = tf.get_variable(\"conv2_w\", shape=[FILTER_SIZE_2, EMBED_SIZE, 1, NUM_FILTERS],\\\n",
    "                                                    initializer=tf.contrib.layers.xavier_initializer_conv2d())\n",
    "    conv2_biases = tf.Variable(tf.constant(0.1, shape=[NUM_FILTERS]), name = \"conv2_b\")\n",
    "\n",
    "    conv3_weights = tf.get_variable(\"conv3_w\", shape=[FILTER_SIZE_3, EMBED_SIZE, 1, NUM_FILTERS],\\\n",
    "                                                    initializer=tf.contrib.layers.xavier_initializer_conv2d())\n",
    "    conv3_biases = tf.Variable(tf.constant(0.1, shape=[NUM_FILTERS]), name = \"conv3_b\")\n",
    "\n",
    "## Fully connected layer\n",
    "\n",
    "    fc1_weights = tf.get_variable(\"fc1_w\", shape=[3*NUM_FILTERS, NUM_LABELS],\\\n",
    "                                                initializer=tf.contrib.layers.xavier_initializer())\n",
    "    fc1_biases = tf.Variable(tf.constant(0.1, shape=[NUM_LABELS]), name = \"fc1_b\")\n",
    "\n",
    "# Model:\n",
    "def model(data, keep_prob = keep_prob): \n",
    "    \n",
    "    ## Embedding layer\n",
    "    ## input shape:[BATCH_SIZE, SEQ_LENGTH]\n",
    "    ## output shape: [BATCH_SIZE, SEQ_LENGTH, EMBED_SIZE, 1]\n",
    "    \n",
    "    with tf.device('/cpu:0'), tf.name_scope(\"word2vec_embedding\"):    \n",
    "        embed_chars = tf.nn.embedding_lookup(embed_weigths, data)\n",
    "        embed_chars = tf.expand_dims(embed_chars, -1)\n",
    "    \n",
    "    ## Conv1+ReLu+max pooling\n",
    "    ## input shape: [BATCH_SIZE, SEQ_LENGTH, EMBED_SIZE, 1]\n",
    "    ## output shape: [BATCH_SIZE, 1, 1, NUM_FILTERS]\n",
    "    \n",
    "    with tf.name_scope(\"conv1-maxpool-3\"):\n",
    "        conv1 = tf.nn.conv2d(embed_chars, conv1_weights, strides=[1, 1, 1, 1], padding=\"VALID\")\n",
    "        relu1 = tf.nn.relu(tf.nn.bias_add(conv1, conv1_biases))\n",
    "        pool1 = tf.nn.max_pool(relu1, ksize=[1, SEQ_LENGTH-FILTER_SIZE_1+1, 1, 1],\n",
    "                               strides=[1, 1, 1, 1], padding='VALID')\n",
    "    ## Conv2+ReLu+max pooling\n",
    "    ## input shape: [BATCH_SIZE, SEQ_LENGTH, EMBED_SIZE, 1]\n",
    "    ## output shape: [BATCH_SIZE, 1, 1, NUM_FILTERS]\n",
    "    \n",
    "    with tf.name_scope(\"conv2-maxpool-4\"):\n",
    "        conv2 = tf.nn.conv2d(embed_chars, conv2_weights, strides=[1, 1, 1, 1], padding=\"VALID\")\n",
    "        relu2 = tf.nn.relu(tf.nn.bias_add(conv2, conv2_biases))\n",
    "        pool2 = tf.nn.max_pool(relu2, ksize=[1, SEQ_LENGTH-FILTER_SIZE_2+1, 1, 1],\n",
    "                               strides=[1, 1, 1, 1], padding='VALID')\n",
    "    \n",
    "    ## Conv3+ReLu+max pooling\n",
    "    ## input shape: [BATCH_SIZE, SEQ_LENGTH, EMBED_SIZE, 1]\n",
    "    ## output shape: [BATCH_SIZE, 1, 1, NUM_FILTERS]\n",
    "    \n",
    "    with tf.name_scope(\"conv3-maxpool-5\"):\n",
    "        conv3 = tf.nn.conv2d(embed_chars, conv3_weights, strides=[1, 1, 1, 1], padding=\"VALID\")\n",
    "        relu3 = tf.nn.relu(tf.nn.bias_add(conv3, conv3_biases))\n",
    "        pool3 = tf.nn.max_pool(relu3, ksize=[1, SEQ_LENGTH-FILTER_SIZE_3+1, 1, 1],\n",
    "                               strides=[1, 1, 1, 1], padding='VALID')\n",
    "    \n",
    "    ## Combine pooled features + flatten\n",
    "    ## input shape: [BATCH_SIZE, 1, 1, NUM_FILTERS]\n",
    "    ## output shape: [BATCH_SIZE, 3, 1, 1, NUM_FILTERS]\n",
    "    \n",
    "    with tf.name_scope(\"combine_flatten\"):\n",
    "        pooled_outputs = [pool1, pool2, pool3]\n",
    "        h_pool = tf.concat(pooled_outputs,3)\n",
    "        h_pool_flat = tf.reshape(h_pool, [-1, NUM_FILTERS*3])\n",
    "    \n",
    "    with tf.name_scope(\"dropout\"):\n",
    "        h_pool_flat = tf.nn.dropout(h_pool_flat, keep_prob)\n",
    "    \n",
    "    ## Fully connected layer\n",
    "    with tf.name_scope(\"output\"):\n",
    "        return tf.matmul(h_pool_flat, fc1_weights) + fc1_biases  \n",
    "  \n",
    "#Training computation:\n",
    "logits = model(tf_train_dataset)\n",
    "with tf.name_scope(\"loss\"):\n",
    "    l2_loss += tf.nn.l2_loss(fc1_weights)\n",
    "    l2_loss += tf.nn.l2_loss(fc1_biases)\n",
    "    loss = tf.reduce_mean(tf.nn.sparse_softmax_cross_entropy_with_logits(logits=logits, labels=tf_train_labels)) \n",
    "    + l2_reg_lambda * l2_loss\n",
    "  \n",
    "# Optimizer:\n",
    "optimizer = tf.train.GradientDescentOptimizer(0.01).minimize(loss)\n",
    "\n",
    "#saver = tf.train.Saver()"
   ]
  },
  {
   "cell_type": "markdown",
   "metadata": {
    "deletable": true,
    "editable": true
   },
   "source": [
    "**Predictions for the training, validation, and test data**"
   ]
  },
  {
   "cell_type": "code",
   "execution_count": 11,
   "metadata": {
    "collapsed": false,
    "deletable": true,
    "editable": true
   },
   "outputs": [],
   "source": [
    "train_prediction = tf.nn.softmax(logits)\n",
    "valid_prediction = tf.nn.softmax(model(tf_valid_dataset))\n",
    "test_prediction = tf.nn.softmax(model(tf_test_dataset))"
   ]
  },
  {
   "cell_type": "markdown",
   "metadata": {
    "deletable": true,
    "editable": true
   },
   "source": [
    "## Train model and report accuracy"
   ]
  },
  {
   "cell_type": "code",
   "execution_count": 15,
   "metadata": {
    "collapsed": false,
    "deletable": true,
    "editable": true
   },
   "outputs": [
    {
     "name": "stdout",
     "output_type": "stream",
     "text": [
      "Minibatch loss at step 0: 0.718859\n",
      "Minibatch accuracy: 46.0%\n",
      "Minibatch f1 score: 6.9\n",
      "Validation accuracy: 75.2%\n",
      "Validation f1 score: 15.1\n",
      "Minibatch loss at step 200: 0.424538\n",
      "Minibatch accuracy: 82.0%\n",
      "Minibatch f1 score: 0.0\n"
     ]
    },
    {
     "name": "stderr",
     "output_type": "stream",
     "text": [
      "/home/vecht499/.local/lib/python3.5/site-packages/sklearn/metrics/classification.py:1115: UndefinedMetricWarning: F-score is ill-defined and being set to 0.0 due to no true samples.\n",
      "  'recall', 'true', average, warn_for)\n"
     ]
    },
    {
     "name": "stdout",
     "output_type": "stream",
     "text": [
      "Validation accuracy: 83.6%\n",
      "Validation f1 score: 0.6\n",
      "Minibatch loss at step 400: 0.278399\n",
      "Minibatch accuracy: 90.0%\n",
      "Minibatch f1 score: 28.6\n",
      "Validation accuracy: 84.2%\n",
      "Validation f1 score: 8.7\n",
      "Minibatch loss at step 600: 0.364285\n",
      "Minibatch accuracy: 84.0%\n",
      "Minibatch f1 score: 33.3\n",
      "Validation accuracy: 84.9%\n",
      "Validation f1 score: 19.3\n",
      "Minibatch loss at step 800: 0.356759\n",
      "Minibatch accuracy: 88.0%\n",
      "Minibatch f1 score: 50.0\n",
      "Validation accuracy: 85.7%\n",
      "Validation f1 score: 27.7\n",
      "Minibatch loss at step 1000: 0.235855\n",
      "Minibatch accuracy: 92.0%\n",
      "Minibatch f1 score: 71.4\n",
      "Validation accuracy: 86.2%\n",
      "Validation f1 score: 35.5\n",
      "\n",
      "Test accuracy: 86.3%\n",
      "\n",
      "Test f1 score: 35.2%\n",
      "Run the command line:\n",
      "--> tensorboard --logdir=path_to_logs/tensorflow_logs \n",
      "Then open http://172.26.179.29:6006/ into your web browser\n"
     ]
    }
   ],
   "source": [
    "NUM_ITERATIONS =1001\n",
    "\n",
    "step = []\n",
    "pred = []\n",
    "loss_minibatch = []\n",
    "accuracy_minibatch = []\n",
    "accuracy_valid = []\n",
    "f1_minibatch = []\n",
    "f1_valid = []\n",
    "\n",
    "logs_path = '../tensorflow_logs/example_sentiment'\n",
    "\n",
    "with tf.Session() as session:\n",
    "    tf.global_variables_initializer().run()\n",
    "    \n",
    "    # op to write logs to Tensorboard\n",
    "    summary_writer = tf.summary.FileWriter(logs_path, graph=tf.get_default_graph())\n",
    "    \n",
    "    for i in range(NUM_ITERATIONS):\n",
    "        offset = (i * BATCH_SIZE) % (train_labels.shape[0] - BATCH_SIZE)\n",
    "        batch_data = train_dataset[offset:(offset + BATCH_SIZE), :]\n",
    "        batch_labels = train_labels[offset:(offset + BATCH_SIZE)]\n",
    "        feed_dict = {tf_train_dataset : batch_data, tf_train_labels : batch_labels}\n",
    "        _, l, predictions = session.run([optimizer, loss, train_prediction], feed_dict=feed_dict) \n",
    "        \n",
    "        if (i % 200 == 0):\n",
    "            step.append(i)\n",
    "            print(\"Minibatch loss at step %d: %f\" % (i, l))\n",
    "            loss_minibatch.append(l)\n",
    "            print(\"Minibatch accuracy: %.1f%%\" % (100*accuracy_score(np.argmax(predictions, 1), batch_labels)))\n",
    "            accuracy_minibatch.append((100*accuracy_score(np.argmax(predictions, 1), batch_labels)))\n",
    "            print(\"Minibatch f1 score: %.1f\" % (100*f1_score(np.argmax(predictions, 1), batch_labels)))\n",
    "            f1_minibatch.append((100*f1_score(np.argmax(predictions, 1), batch_labels)))\n",
    "            print('Validation accuracy: %.1f%%' % (100*accuracy_score(np.argmax(valid_prediction.eval(),1),\n",
    "                                                                 valid_labels))) \n",
    "            accuracy_valid.append((100*accuracy_score(np.argmax(valid_prediction.eval(),1), valid_labels)))\n",
    "            print('Validation f1 score: %.1f' % (100*f1_score(np.argmax(valid_prediction.eval(),1),\n",
    "                                                                 valid_labels)))   \n",
    "            f1_valid.append((100*f1_score(np.argmax(valid_prediction.eval(),1), valid_labels)))\n",
    "            \n",
    "    print(\"\\nTest accuracy: %.1f%%\" % (100*accuracy_score(np.argmax(test_prediction.eval(),1), test_labels)))\n",
    "    print(\"\\nTest f1 score: %.1f%%\" % (100*f1_score(np.argmax(test_prediction.eval(),1), test_labels)))\n",
    "    \n",
    "    #save_path = saver.save(session, \"../models/sentiment_cnn.ckpt\")\n",
    "    #print(\"Model saved in file: %s\" % save_path)\n",
    "    \n",
    "    pred.append(np.argmax(test_prediction.eval(), 1))\n",
    "    \n",
    "    print(\"Run the command line:\\n\" \\\n",
    "          \"--> tensorboard --logdir=path_to_logs/tensorflow_logs \" \\\n",
    "          \"\\nThen open http://172.26.179.29:6006/ into your web browser\")\n",
    "    \n",
    "pred = pred[0]"
   ]
  },
  {
   "cell_type": "code",
   "execution_count": 16,
   "metadata": {
    "collapsed": false
   },
   "outputs": [
    {
     "data": {
      "text/plain": [
       "array([0, 0, 1, ..., 0, 0, 0])"
      ]
     },
     "execution_count": 16,
     "metadata": {},
     "output_type": "execute_result"
    }
   ],
   "source": [
    "pred"
   ]
  },
  {
   "cell_type": "code",
   "execution_count": 17,
   "metadata": {
    "collapsed": false,
    "deletable": true,
    "editable": true
   },
   "outputs": [
    {
     "data": {
      "text/plain": [
       "array([[33186,  5043],\n",
       "       [  471,  1500]])"
      ]
     },
     "execution_count": 17,
     "metadata": {},
     "output_type": "execute_result"
    }
   ],
   "source": [
    "confusion_matrix(pred,test_labels)"
   ]
  },
  {
   "cell_type": "code",
   "execution_count": 18,
   "metadata": {
    "collapsed": false,
    "deletable": true,
    "editable": true
   },
   "outputs": [
    {
     "data": {
      "text/plain": [
       "<matplotlib.text.Text at 0x7f76e559ca58>"
      ]
     },
     "execution_count": 18,
     "metadata": {},
     "output_type": "execute_result"
    },
    {
     "data": {
      "image/png": "[encoded data removed]",
      "text/plain": [
       "<matplotlib.figure.Figure at 0x7f76e579fa20>"
      ]
     },
     "metadata": {},
     "output_type": "display_data"
    }
   ],
   "source": [
    "plt.figure(figsize=(20, 5))\n",
    "\n",
    "plt.subplot(1, 2, 1)\n",
    "plt.plot(step[1:len(step)],loss_minibatch[1:len(step)])\n",
    "plt.xlabel('Number of iterations')\n",
    "plt.ylabel('Loss')\n",
    "plt.title('Loss training set per number of iterations')\n",
    "\n",
    "plt.subplot(1, 2, 2)\n",
    "plt.plot(step[1:len(step)],accuracy_minibatch[1:len(step)], label = 'Training accuracy')\n",
    "plt.plot(step[1:len(step)],accuracy_valid[1:len(step)], label = 'Validation accuracy')\n",
    "plt.legend(loc = 0)\n",
    "plt.xlabel('Number of iterations')\n",
    "plt.ylabel('Accuracy')\n",
    "plt.title('Accuracy training vs vailadation set per number of iterations')"
   ]
  }
 ],
 "metadata": {
  "kernelspec": {
   "display_name": "Python [conda env:py35]",
   "language": "python",
   "name": "conda-env-py35-py"
  },
  "language_info": {
   "codemirror_mode": {
    "name": "ipython",
    "version": 3
   },
   "file_extension": ".py",
   "mimetype": "text/x-python",
   "name": "python",
   "nbconvert_exporter": "python",
   "pygments_lexer": "ipython3",
   "version": "3.5.3"
  }
 },
 "nbformat": 4,
 "nbformat_minor": 2
}
